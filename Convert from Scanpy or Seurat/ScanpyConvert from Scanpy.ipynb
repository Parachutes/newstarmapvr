{
 "cells": [
  {
   "cell_type": "code",
   "execution_count": 1,
   "metadata": {},
   "outputs": [],
   "source": [
    "def adataTostarmap(adata, cord, featureN, valuetoplot, result_path):\n",
    "    if cord == 'umap':\n",
    "        cord_xyz = pd.DataFrame(adata.obsm['X_umap'],columns=['x', 'y'])\n",
    "        cord_xyz['z'] = 1\n",
    "    if cord == 'pca':\n",
    "        cord_xyz = pd.DataFrame(adata.obsm['X_pca'][:,0:3], columns = ['x', 'y', 'z'])\n",
    "    else:\n",
    "        cord_x = pd.DataFrame(adata.obsm['X_pca'][:,int(cord.split(\"_\")[1][0])-1], columns = ['x'])\n",
    "        cord_y = pd.DataFrame(adata.obsm['X_pca'][:,int(cord.split(\"_\")[1][1])-1], columns = ['y'])\n",
    "        cord_z = pd.DataFrame(adata.obsm['X_pca'][:,int(cord.split(\"_\")[1][2])-1], columns = ['z'])\n",
    "        cord_xyz = pd.concat([cord_x,cord_y], axis=1, join='inner')\n",
    "        cord_xyz = pd.concat([cord_xyz,cord_z], axis=1, join='inner')\n",
    "        \n",
    "    fcolumns = []\n",
    "    features = {}\n",
    "    for i in range(len(featureN)):\n",
    "        fcolumns.append('PC'+str(featureN[i]))\n",
    "        features[i] = list(adata.obsm['X_pca'][:,featureN[i]])\n",
    "    pcs = pd.DataFrame.from_dict(features)\n",
    "    pcs.columns = fcolumns\n",
    "\n",
    "    if valuetoplot in adata.obs.columns:\n",
    "        label = pd.DataFrame(adata.obs[valuetoplot])\n",
    "        label['cluster'] = label[valuetoplot]\n",
    "        label = label.reset_index()\n",
    "    else:\n",
    "        label = pd.DataFrame(adata.raw.obs_vector(valuetoplot).round(),columns = ['cluster'])\n",
    "\n",
    "    adataStarmap = pd.concat([cord_xyz,pcs], axis=1, join='inner')\n",
    "    adataStarmap = pd.concat([adataStarmap,label['cluster']], axis=1, join='inner')\n",
    "    adataStarmap.to_csv(result_path,index = None)"
   ]
  },
  {
   "cell_type": "code",
   "execution_count": 2,
   "metadata": {},
   "outputs": [],
   "source": [
    "#Example 1:\n",
    "#PC1,2,3 as 3D coordinates\n",
    "#PC1,2,3,4,5,6,7,8,9,10,11,12 as features\n",
    "#louvain clustering result as cluster labels\n",
    "import scanpy as sc\n",
    "import pandas as pd\n",
    "\n",
    "adata = sc.read(\"~/scanpy_tutorial/write/pbmc3k.h5ad\")\n",
    "cord = 'pca_123'\n",
    "featureN = [1,2,3,4,5,6,7,8,9,10,11,12]\n",
    "valuetoplot = 'louvain'\n",
    "result_path = '~/scanpy_tutorial/write/pbmc3k_louvain_starmap.csv'\n",
    "adataTostarmap(adata, cord, featureN, valuetoplot, result_path)"
   ]
  },
  {
   "cell_type": "code",
   "execution_count": 3,
   "metadata": {},
   "outputs": [],
   "source": [
    "#Example 1:\n",
    "#PC2,3,5 as 3D coordinates\n",
    "#PC3,5,6,7,15 as features\n",
    "#Gene 'CPSF3L' expression level as cluster labels\n",
    "import scanpy as sc\n",
    "import pandas as pd\n",
    "\n",
    "adata = sc.read(\"~/scanpy_tutorial/write/pbmc3k.h5ad\")\n",
    "cord = 'pca_235'\n",
    "featureN = [3,5,6,7,15]\n",
    "valuetoplot = 'CPSF3L'\n",
    "result_path = '~/scanpy_tutorial/write/pbmc3k_CPSF3L_starmap.csv'\n",
    "adataTostarmap(adata, cord, featureN, valuetoplot, result_path)"
   ]
  }
 ],
 "metadata": {
  "kernelspec": {
   "display_name": "Python 3",
   "language": "python",
   "name": "python3"
  },
  "language_info": {
   "codemirror_mode": {
    "name": "ipython",
    "version": 3
   },
   "file_extension": ".py",
   "mimetype": "text/x-python",
   "name": "python",
   "nbconvert_exporter": "python",
   "pygments_lexer": "ipython3",
   "version": "3.7.6"
  }
 },
 "nbformat": 4,
 "nbformat_minor": 4
}
